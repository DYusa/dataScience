{
  "metadata": {
    "kernelspec": {
      "name": "python",
      "display_name": "Python (Pyodide)",
      "language": "python"
    },
    "language_info": {
      "codemirror_mode": {
        "name": "python",
        "version": 3
      },
      "file_extension": ".py",
      "mimetype": "text/x-python",
      "name": "python",
      "nbconvert_exporter": "python",
      "pygments_lexer": "ipython3",
      "version": "3.8"
    }
  },
  "nbformat_minor": 5,
  "nbformat": 4,
  "cells": [
    {
      "cell_type": "markdown",
      "source": "# Data Science Tools and Ecosystem",
      "metadata": {},
      "id": "99b0702d-0dac-45ed-8d70-4ea0ed724bd2"
    },
    {
      "cell_type": "markdown",
      "source": "### In this notebook, Data Science Tools and Ecosystem are summarized\n\nTo gain insights and improve decision-making, data scientists analyze and interpret vast amounts of data. Data Scientists employ a range of tools and methods to do this.\n\nPython is one of the most widely used computer languages for data analysis. There is a wide ecosystem of data analysis-focused libraries in Python, including NumPy, Pandas, and Scikit-learn.\n\n\nR is a different well-liked programming language for data analysis. Additionally, R has a sizable ecosystem of libraries made especially for data analysis, including ggplot2 and dplyr.\n\nAdditionally, data scientists write and run their code using programs like RStudio and Jupyter Notebook. Data Scientists can write and run their code in an interactive environment made available by these technologies.\n",
      "metadata": {},
      "id": "30e17c1e-ad04-40e0-ac73-bf97fa15f845"
    },
    {
      "cell_type": "markdown",
      "source": "\n- **Objectives:**\n\n    * List popular languages for Data Science.\n    * Describe the Data Science workflow and explain key concepts.\n    * Explain the difference between supervised and unsupervised learning.\n    * List and describe some of the popular machine learning algorithms.\n    * Basic calculations on python.",
      "metadata": {},
      "id": "e2518944-d57c-43c4-9452-da9ec39190aa"
    },
    {
      "cell_type": "markdown",
      "source": "## Some of the popular languages that Data Scientists use are:\n1. Python: Python is one of the most popular programming languages among Data Scientists due to its ease of use, large ecosystem of data analysis libraries, and flexibility. Python can be used for data cleaning, analysis, visualization, and machine learning.\n\n2. R: R is another popular programming language among Data Scientists, particularly in academia. It is designed specifically for statistical computing and graphics, and has a large ecosystem of packages that enable Data Scientists to perform a wide range of data analysis tasks.\n\n3. SQL: SQL is a domain-specific language used for managing and querying relational databases. Data Scientists often use SQL to extract, manipulate, and analyze data stored in databases.",
      "metadata": {},
      "id": "b351f8ae-76e6-490d-a754-65b5fa82fc96"
    },
    {
      "cell_type": "markdown",
      "source": "## Some of the commonly used libraries used by Data Scientists include:\n1. NumPy: NumPy is a library for Python that provides support for large, multi-dimensional arrays and matrices, as well as a large collection of mathematical functions to operate on these arrays. Data Scientists use NumPy for data manipulation, scientific computing, and machine learning.\n\n2. Pandas: Pandas is a library for Python that provides data structures for efficiently storing and manipulating large, tabular datasets. Data Scientists use Pandas for data cleaning, preparation, and analysis.\n\n3. Scikit-learn: Scikit-learn is a library for Python that provides a wide range of tools for machine learning, including classification, regression, clustering, and dimensionality reduction algorithms. Data Scientists use Scikit-learn to build and train machine learning models on their data.",
      "metadata": {},
      "id": "026b8a72-9892-4bce-9047-ba1684754cfb"
    },
    {
      "cell_type": "markdown",
      "source": "| Data Science Tools |\n|--------------------|\n| Jupyter Notebook   |\n| RStudio            |\n| Spyder             |",
      "metadata": {},
      "id": "dd2a15f2-f009-49c4-a3a7-40c4c7a7b902"
    },
    {
      "cell_type": "markdown",
      "source": "| Data Science Tools |\n|--------------------|\n| Jupyter Notebook   |\n| RStudio            |\n| Spyder             |",
      "metadata": {},
      "id": "865179ba-a780-4c35-85fd-4923ecff9353"
    },
    {
      "cell_type": "code",
      "source": "### Below are a few examples of evaluating arithmetic expressions in Python:\n",
      "metadata": {
        "trusted": true
      },
      "execution_count": 5,
      "outputs": [],
      "id": "adf9df64-03fb-49f0-ae88-6fade4fe7753"
    },
    {
      "cell_type": "code",
      "source": "# This a simple arithmetic expression to mutiply then add integers.\n\nresult = (3 * 4) + 5\nprint(result)\n",
      "metadata": {
        "trusted": true
      },
      "execution_count": 6,
      "outputs": [
        {
          "name": "stdout",
          "text": "17\n",
          "output_type": "stream"
        }
      ],
      "id": "57aa8d18-1615-46f1-aefb-6334837d9fc5"
    },
    {
      "cell_type": "code",
      "source": "# This code convert 200 mins into hours by dividing it by 60.\nx=200\nmint=60\nhours=(x/mint)\nprint(hours)\nactualHours=(hours//1)\nprint(actualHours)",
      "metadata": {
        "trusted": true
      },
      "execution_count": 18,
      "outputs": [
        {
          "name": "stdout",
          "text": "3.3333333333333335\n3.0\n",
          "output_type": "stream"
        }
      ],
      "id": "3b9b7682-a413-4c47-9a77-4ccb99108f4d"
    },
    {
      "cell_type": "markdown",
      "source": " ## Author\n Yusa Ece Demiral",
      "metadata": {},
      "id": "38c91429-38b1-4942-87f5-c8e686bfd63e"
    }
  ]
}